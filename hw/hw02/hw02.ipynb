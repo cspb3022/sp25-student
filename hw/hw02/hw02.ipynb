{
 "cells": [
  {
   "cell_type": "code",
   "execution_count": null,
   "id": "9607cb8a",
   "metadata": {
    "deletable": false,
    "editable": false
   },
   "outputs": [],
   "source": [
    "# Initialize Otter\n",
    "import otter\n",
    "grader = otter.Notebook(\"hw02.ipynb\")"
   ]
  },
  {
   "cell_type": "markdown",
   "id": "a552e640",
   "metadata": {},
   "source": [
    "### Importing Libraries and Magic Commands\n",
    "\n",
    "In CSPB 3022, we will be using common Python libraries to help us process data. By convention, we import all libraries at the very top of the notebook. There are also a set of standard aliases that are used to shorten the library names. Below are some of the libraries that you may encounter throughout this assignment, along with their respective aliases."
   ]
  },
  {
   "cell_type": "code",
   "execution_count": null,
   "id": "721febdf",
   "metadata": {},
   "outputs": [],
   "source": [
    "import numpy as np\n",
    "import pandas as pd\n",
    "import matplotlib.pyplot as plt\n",
    "import plotly.express as px\n",
    "from cspb3022_utils import *\n"
   ]
  },
  {
   "cell_type": "markdown",
   "id": "380021a2",
   "metadata": {},
   "source": [
    "<a id='verytop'></a>\n",
    "\n",
    "# Homework 2: Math Concepts & Exploratory Data Analysis\n",
    "\n",
    "## Due on Gradescope\n",
    "\n",
    "\n",
    "### Detailed Submission Instructions Are Provided at the end of this Notebook\n",
    "\n",
    "\n",
    "\n",
    "\n",
    "\n",
    "\n",
    "\n",
    "## Collaboration Policy\n",
    "\n",
    "\n",
    "Data science is a collaborative activity. However a key step in learning and retention is creating solutions on your own.\n",
    "\n",
    "Please see the Course Syllabus for the Collaboration Policy.\n",
    "\n",
    "The following are some examples of things which would NOT usually be considered to be cheating:\n",
    "\n",
    "Working on a HW problem on your own first and then discussing with a classmate a particular part in the problem solution where you are stuck. After clarifying any questions you should then continue to write your solution independently.\n",
    "Asking someone (or searching online) how a particular construct in the language works.\n",
    "Asking someone (or searching online) how to formulate a particular construct in the language.\n",
    "Asking someone for help in finding an error in your program.\n",
    "Asking someone why a particular construct does not work as you expected in a given program.\n",
    "To test whether you are truly doing your own work and retaining what you've learned you should be able to easily reproduce from scratch and explain a HW solution that was your own when asked in office hours by an Instructor or on a quiz/exam.\n",
    "\n",
    "If you have difficulty in formulating the general solution to a problem on your own, or you have difficulty in translating that general solution into a program, it is advisable to see your instructor.\n",
    "\n",
    "We are here to help! Visit Office Hours and/or post questions on Piazza!\n"
   ]
  },
  {
   "cell_type": "markdown",
   "id": "24b45ac0",
   "metadata": {},
   "source": [
    "## Grading\n",
    "Grading is broken down into autograded answers and manually graded answers. \n",
    "\n",
    "For autograded answers, the results of your code are compared to provided and/or hidden tests.\n",
    "\n",
    "For manually graded answers you must show and explain all steps.  Graders will evaluate how well you answered the question and/or fulfilled the requirements of the question.\n",
    "\n",
    "\n",
    "### Score breakdown\n",
    "\n",
    "\n",
    "\n",
    "Question | Points | Grading Type\n",
    "--- | --- | ---\n",
    "Question 1a | 4 | manual\n",
    "Question 2a | 2 | autograded\n",
    "Question 2b | 2 | manual\n",
    "Question 2c | 2 | autograded\n",
    "Question 3a | 2 | autograded\n",
    "Question 3b| 5 | autograded\n",
    "Question 3c | 4 | autograded\n",
    "Question 3d | 4 | autograded\n",
    "Question 3e | 4 | autograded\n",
    "Question 3f | 4 | autograded\n",
    "Question 3g | 4 | autograded\n",
    "Question 3h | 4 | autograded\n",
    "Question 3i | 4 | autograded\n",
    "Question 3j | 5 | autograded\n",
    "|Total | 50"
   ]
  },
  {
   "cell_type": "markdown",
   "id": "cc428220-4554-48fc-9039-eefdba21a16c",
   "metadata": {},
   "source": [
    "## Recommended Readings for this HW:\n",
    "\n",
    " - [Learning Data Science Chapter 6 - All (Subsetting, Aggregating, Joining, Transforming)](https://learningds.org/ch/06/pandas_intro.html)\n",
    " - [Learning Data Science Section 8.6 (Table Shape and Granularity)](https://learningds.org/ch/08/files_granularity.html#table-shape-and-granularity)\n",
    " \n"
   ]
  },
  {
   "cell_type": "markdown",
   "id": "51fc4ee3",
   "metadata": {},
   "source": [
    "<a id='top'></a>\n",
    "---\n",
    "**Shortcuts:** [Problem 1](#p1) |    [Problem 2](#p2) | [Problem 3](#p3) | \n",
    "\n",
    "---"
   ]
  },
  {
   "cell_type": "markdown",
   "id": "c0eec3bc",
   "metadata": {},
   "source": [
    "<hr style=\"border: 5px solid #003262;\" />\n",
    "<hr style=\"border: 1px solid #fdb515;\" />\n",
    "\n"
   ]
  },
  {
   "cell_type": "markdown",
   "id": "151d4cdc",
   "metadata": {},
   "source": [
    "[Back to top](#top)\n",
    "\n",
    "<a id='p1'></a>\n",
    "\n",
    "## <span style='color:Red'>  Question 1: Sums\n",
    "\n",
    "### Preliminary: Sums ###\n",
    "\n",
    "Here's a recap of some basic algebra written in sigma notation. The facts are all just applications of the ordinary associative and distributive properties of addition and multiplication, written compactly and without the possibly ambiguous \"...\". But if you are ever unsure of whether you're working correctly with a sum, you can always try writing $\\sum_{i=1}^n a_i$ as $a_1 + a_2 + \\cdots + a_n$ and see if that helps.\n",
    "\n",
    "- You can use any reasonable notation for the index over which you are summing, just as in Python you can use any reasonable name in `for name in list`. Thus $\\sum_{i=1}^n a_i = \\sum_{k=1}^n a_k$.\n",
    "- $\\sum_{i=1}^n (a_i + b_i) = \\sum_{i=1}^n a_i + \\sum_{i=1}^n b_i$\n",
    "- $\\sum_{i=1}^n d = nd$\n",
    "- $\\sum_{i=1}^n (ca_i + d) = c\\sum_{i=1}^n a_i + nd$\n"
   ]
  },
  {
   "cell_type": "markdown",
   "id": "0b918cef",
   "metadata": {
    "deletable": false,
    "editable": false
   },
   "source": [
    "<!-- BEGIN QUESTION -->\n",
    "\n",
    "### Question 1a) #### \n",
    "\n",
    "We commonly use sigma notation to compactly write the definition of the arithmetic mean (commonly known as the average):\n",
    "\n",
    "$$\\bar{x} = \\frac{1}{n}\\left(x_1+x_2+ ... + x_n \\right) = \\frac{1}{n}\\sum_{i=1}^n x_i$$\n",
    "\n",
    "\n",
    "\n",
    "The $i$th *deviation from average* is the difference $x_i - \\bar{x}$. Prove that the sum of all these deviations is 0 that is, prove that $\\sum_{i=1}^n (x_i - \\bar{x}) = 0$ (write your full solution in the box directly below showing all steps and using LaTeX).\n"
   ]
  },
  {
   "cell_type": "markdown",
   "id": "c2525ff8",
   "metadata": {},
   "source": [
    "_Type your answer here, replacing this text._"
   ]
  },
  {
   "cell_type": "markdown",
   "id": "8721ade4",
   "metadata": {
    "deletable": false,
    "editable": false
   },
   "source": [
    "<!-- END QUESTION -->\n",
    "\n",
    "[Back to top](#top)\n",
    "\n",
    "<a id='p2'></a>\n",
    "\n",
    "\n",
    "## <span style='color:Red'>   Question 2). A Maximum Likelihood Estimate"
   ]
  },
  {
   "cell_type": "markdown",
   "id": "62bc076a",
   "metadata": {
    "deletable": false,
    "editable": false
   },
   "source": [
    "In this problem we're going to introduce a data science concept called a maximum likelihood estimate.\n",
    "\n",
    "Data scientists use coin tossing as a visual image for sampling at random with replacement from a binary population.\n",
    "\n",
    "### Question 2a) ####\n",
    "A coin that lands heads with chance 0.7 is tossed six times. What is the chance of the sequence HHHTHT? Assign your answer to the variable `p_HHHTHT`."
   ]
  },
  {
   "cell_type": "code",
   "execution_count": null,
   "id": "18663714",
   "metadata": {
    "tags": []
   },
   "outputs": [],
   "source": [
    "p_HHHTHT = ...\n",
    "p_HHHTHT"
   ]
  },
  {
   "cell_type": "code",
   "execution_count": null,
   "id": "0ab19fc7",
   "metadata": {
    "deletable": false,
    "editable": false
   },
   "outputs": [],
   "source": [
    "grader.check(\"2a\")"
   ]
  },
  {
   "cell_type": "markdown",
   "id": "6405e77f",
   "metadata": {},
   "source": [
    "### Question 2b) ####\n",
    "I have a coin that lands heads with an unknown probability $p$. \n",
    "\n",
    "Suppose I toss it 10 times and get the sequence TTTHTHHTTH.\n",
    "\n",
    "If you toss this coin 10 times, the chance that you get the sequence above is a function of $p$. That function is called the *likelihood* of the sequence TTTHTHHTTH, so we will call it $L(p)$.\n",
    "\n"
   ]
  },
  {
   "cell_type": "markdown",
   "id": "9387df81",
   "metadata": {
    "deletable": false,
    "editable": false
   },
   "source": [
    "<!-- BEGIN QUESTION -->\n",
    "\n",
    "What is $L(p)$ (i.e. the likelihood) for the sequence TTTHTHHTTH?\n",
    "\n",
    "Enter your answer below by setting the `likelihood` variable equal to the correct function.\n",
    "\n",
    "(For example `likelihood = sin(p)+2p`, althought that is definitely an incorrect answer!)\n",
    "\n",
    "Then run the code below to plot the likelihood function.\n",
    "\n"
   ]
  },
  {
   "cell_type": "code",
   "execution_count": null,
   "id": "cdcec98f",
   "metadata": {
    "tags": []
   },
   "outputs": [],
   "source": [
    "#At the top of the notebook we already imported a useful plotting module, matplotlib with alias plt\n",
    "\n",
    "p = np.linspace(0, 1, 100) \n",
    "#This creates an array of 100 p-values equally spaced between 0 and 1\n",
    "\n",
    "likelihood = ...\n",
    "#Define the likelihood function above\n",
    "\n",
    "plt.plot(p, likelihood, lw=2, color='darkblue') \n",
    "#This plots the likelihood function  \n",
    "\n",
    "plt.xlabel('$p$')\n",
    "#This labels the x axis\n",
    "\n",
    "plt.ylabel('$L(p)$')\n",
    "#This labels the y-axis\n",
    "\n",
    "plt.title('Likelihood of TTTHTHHTTH');\n",
    "#This titles the plot"
   ]
  },
  {
   "cell_type": "markdown",
   "id": "75cb7c2f",
   "metadata": {
    "deletable": false,
    "editable": false
   },
   "source": [
    "<!-- END QUESTION -->\n",
    "\n",
    "### Question 2c) ####\n",
    "\n",
    "The value $\\hat{p}$ at which the likelihood function attains its maximum is called the *maximum likelihood estimate* (MLE) of $p$. Among all values of $p$, it is the one that makes the observed data most likely.\n",
    "\n",
    "Using only your plot above, what is the value of $\\hat{p}$?   \n"
   ]
  },
  {
   "cell_type": "code",
   "execution_count": null,
   "id": "a3b88584",
   "metadata": {
    "tags": []
   },
   "outputs": [],
   "source": [
    "p_hat = ..."
   ]
  },
  {
   "cell_type": "code",
   "execution_count": null,
   "id": "44c444c7",
   "metadata": {
    "deletable": false,
    "editable": false
   },
   "outputs": [],
   "source": [
    "grader.check(\"2c\")"
   ]
  },
  {
   "cell_type": "markdown",
   "id": "d9516a5d",
   "metadata": {},
   "source": [
    "Notice the value you found graphically for $\\hat{p}$ above also intuitively makes sense because it is also the observed proportion of heads in the given sequence TTTHTHHTTH."
   ]
  },
  {
   "cell_type": "markdown",
   "id": "8c6aeac6",
   "metadata": {
    "tags": []
   },
   "source": [
    "[Back to top](#top)\n",
    "\n",
    "<a id='p3'></a>\n",
    "    \n",
    "## <span style='color:Red'>  QUESTION 3: Evidence for Money Ball ###\n",
    "\n",
    "In the book [MoneyBall](https://en.wikipedia.org/wiki/Moneyball), Michael Lewis documented the introduction of statistics and data science in selecting players for the Oakland A's. \n",
    "    \n",
    "The central premise of Moneyball is that the collective wisdom of baseball insiders (including players, managers, coaches, scouts, and the front office) over the past century is outdated, subjective, and often flawed. That the statistics traditionally used to gauge players, such as stolen bases, runs batted in, and batting average, are relics of a 19th-century view of the game.  Sabermetrics and statistical analysis had demonstrated, for example, that on-base percentage and slugging percentage are better measures of batting. The Oakland A's began seeking players who were \"undervalued in the market\"—that is, who were receiving lower salaries relative to their ability to contribute to winning, as measured by these advanced statistics.\n",
    "   \n",
    "In this problem, we're going to investigate Oakland A's wins and payroll amounts compared to other successful teams during the time period that Moneyball investigates.  \n",
    "\n",
    "Do to this we'll use two datasets from the [Sean Lahman's Baseball Database](http://seanlahman.com/) which contains the \"complete batting and pitching statistics from 1871 to 2022, plus fielding statistics, standings, team stats, managerial records, post-season data, and more.\"   \n",
    "\n",
    "For more details about this data, see documentation.txt in the `data` folder.  \n",
    "\n",
    "\n"
   ]
  },
  {
   "cell_type": "markdown",
   "id": "aca0f24f",
   "metadata": {},
   "source": [
    "## Exploratory Data Analysis\n",
    "\n",
    "Throughout this question you will be asked to explore the dataset.  \n",
    "You will need familiarity with all the methods and attributes introduced in  Chapter 6 of the assigned reading:  [Learning Data Science Chapter 6 - All (Subsetting, Aggregating, Joining, Transforming)](https://learningds.org/ch/06/pandas_intro.html).  \n",
    "\n",
    "There is frequently more than one way to answer question in Pandas, so we encourage you to dive in and play around with different approaches.  Unless otherwise indicated, you are welcome to use whatever methods/attributes/approach that you choose."
   ]
  },
  {
   "cell_type": "markdown",
   "id": "94497ea4",
   "metadata": {},
   "source": [
    "There are two .csv files in the `data` folder of this assignment:  `teams.csv` and `salaries.csv`\n",
    "\n",
    "Import the `Teams.csv` data into a DataFrame called `teams_df` and take a look at the data. \n"
   ]
  },
  {
   "cell_type": "code",
   "execution_count": null,
   "id": "94c346e8",
   "metadata": {},
   "outputs": [],
   "source": [
    "# Run this cell to load the Teams data:\n",
    "teams_df=pd.read_csv(\"data/Teams.csv\") \n",
    "teams_df.head()"
   ]
  },
  {
   "cell_type": "markdown",
   "id": "5bcd4c9d-9c69-4441-8100-497863f2ec40",
   "metadata": {
    "deletable": false,
    "editable": false
   },
   "source": [
    "### Question 3a). Loading Data:\n",
    "Import the `Salaries.csv` data into a DataFrame called `salaries_df` and take a look at the data."
   ]
  },
  {
   "cell_type": "code",
   "execution_count": null,
   "id": "78de2f79",
   "metadata": {
    "tags": []
   },
   "outputs": [],
   "source": [
    "# Load the Salaries data:\n",
    "\n",
    "salaries_df= ...\n",
    "\n",
    "salaries_df.head()"
   ]
  },
  {
   "cell_type": "code",
   "execution_count": null,
   "id": "d40fad70",
   "metadata": {
    "deletable": false,
    "editable": false
   },
   "outputs": [],
   "source": [
    "grader.check(\"q3a\")"
   ]
  },
  {
   "cell_type": "markdown",
   "id": "10cd45be",
   "metadata": {
    "deletable": false,
    "editable": false
   },
   "source": [
    "<!-- BEGIN QUESTION -->\n",
    "\n",
    "### Question 3b). EDA:  Structure, Granularity and Faithfulness\n",
    "\n",
    "Examine the structure, granularity and faithfulness of the datasets.   (Hint: The common utility functions we covered in the video lessons will be useful here).  \n",
    "\n",
    "Then answer the following questions:\n",
    "\n",
    " - i).  What does the column `G` represent in the teams dataset?  (For a description of the columns, see the documentation in the `data` folder).  \n",
    "\n",
    " - ii).  What is the granularity of the `teams.csv` file? \n",
    "\n",
    " - iii).  What is the granularity of the `salary.csv` file? \n",
    " \n",
    " - iv).  How many rows and columns are in the teams dataset?    Assign your answer to the variables `team_rows` and `team_col` below.  \n",
    "\n",
    " - v).  How many rows and columns are in the salary dataset? Assign your answer to the variables `salary_rows` and `salary_col` below.\n",
    "\n",
    " - vi).  How many entries in the `teams.csv` file are missing Attendance Data?  Assign your answer to the variable `missing_attendance` below."
   ]
  },
  {
   "cell_type": "markdown",
   "id": "eb888340-fe11-4098-b545-4efc968553eb",
   "metadata": {},
   "source": [
    "### Answer Cell for Questions 3b(i)(ii)(iii) \n",
    "In this cell, answer questions 3b(i) - (iii) using Markdown (not code).  \n",
    "\n",
    "**3b(i) Answer:**\n",
    "\n",
    "**3b(ii) Answer**:\n",
    "\n",
    "**3b(iii) Answer**:\n",
    "\n",
    "In the code cells below justify your answers to part (ii) and (iii) and then answer parts iv through vi"
   ]
  },
  {
   "cell_type": "code",
   "execution_count": null,
   "id": "71fe30e7",
   "metadata": {
    "tags": []
   },
   "outputs": [],
   "source": [
    "...\n",
    "\n",
    "# Show work in this cell justifying your answer to part 3a(ii) (hint: either use .value_counts() or .groupby)"
   ]
  },
  {
   "cell_type": "code",
   "execution_count": null,
   "id": "8c221397",
   "metadata": {
    "tags": []
   },
   "outputs": [],
   "source": [
    "...\n",
    "\n",
    "# Show work in this cell justifying your answer to part 3a(iii) (hint: either use .value_counts() or .groupby)"
   ]
  },
  {
   "cell_type": "code",
   "execution_count": null,
   "id": "4b04c04e-a63d-42fd-96a6-6ebe7ac2e5ea",
   "metadata": {
    "tags": []
   },
   "outputs": [],
   "source": [
    "# Solution Cell for 3a(iv) and 3a(v)\n",
    "#Use code to find the number of rows and columns in the teams data.  Do not enter any values by hand.\n",
    "\n",
    "team_rows= ...\n",
    "\n",
    "team_col = ...\n",
    "\n",
    "salary_rows = ...\n",
    "\n",
    "salary_col = ...\n",
    "\n"
   ]
  },
  {
   "cell_type": "code",
   "execution_count": null,
   "id": "5650c246",
   "metadata": {
    "tags": []
   },
   "outputs": [],
   "source": [
    "# Solution Cell for 3a(vi)\n",
    "# Use code to find the number of rows in the Teams data that are missing attendance data\n",
    "\n",
    "missing_attendance = ...\n"
   ]
  },
  {
   "cell_type": "code",
   "execution_count": null,
   "id": "a9cc3ab1",
   "metadata": {
    "deletable": false,
    "editable": false
   },
   "outputs": [],
   "source": [
    "grader.check(\"q3b\")"
   ]
  },
  {
   "cell_type": "markdown",
   "id": "fdf4ed5d",
   "metadata": {
    "deletable": false,
    "editable": false
   },
   "source": [
    "<!-- END QUESTION -->\n",
    "\n",
    "### Question 3c) EDA:  Examining Scope and Temporality of the Data\n",
    " Use code to explore the datasets and answer the questions below:\n",
    " \n",
    " i).  How many unique teams are represented in the `teams_df` DataFrame?  Write code to calculate this and assign the answer to the variable `unique_teams`   \n",
    " \n",
    " ii). How many unique teams are represented in the `salaries_df` DataFrame? Write code to calculate this and assign the answer to `unique_teams_salary`\n",
    " \n",
    " iii).  What years does the `teams_df` data span?  \n",
    " Write code to calculate this and assign the answers to `teams_startyear` and `teams_endyear`\n",
    "\n",
    " \n",
    " iv).  What years does the `salaries_df` data span?   \n",
    " Write code to calculate this and assign the answers to `salaries_startyear` and `salaries_endyear`\n",
    " "
   ]
  },
  {
   "cell_type": "code",
   "execution_count": null,
   "id": "5b633b72",
   "metadata": {
    "tags": []
   },
   "outputs": [],
   "source": [
    "# Answer to 3ci:\n",
    "\n",
    "unique_teams = ...\n",
    "\n",
    "#print out result\n",
    "unique_teams\n"
   ]
  },
  {
   "cell_type": "code",
   "execution_count": null,
   "id": "157fc1a2",
   "metadata": {
    "tags": []
   },
   "outputs": [],
   "source": [
    "# Answer to 3cii:\n",
    "\n",
    "unique_teams_salary= ...\n",
    "\n",
    "#print out result\n",
    "unique_teams_salary"
   ]
  },
  {
   "cell_type": "code",
   "execution_count": null,
   "id": "211f804e",
   "metadata": {
    "tags": []
   },
   "outputs": [],
   "source": [
    "# Answer to 3ciii:\n",
    "\n",
    "teams_startyear = ...\n",
    "\n",
    "teams_endyear = ...\n",
    "\n",
    "#print out result\n",
    "[teams_startyear, teams_endyear]"
   ]
  },
  {
   "cell_type": "code",
   "execution_count": null,
   "id": "26331603-0d3b-4af6-bb27-56db0499cd78",
   "metadata": {
    "tags": []
   },
   "outputs": [],
   "source": [
    "# Answer to 3civ:\n",
    "\n",
    "\n",
    "salaries_startyear = ...\n",
    "\n",
    "salaries_endyear = ...\n",
    "\n",
    "#print out result\n",
    "[salaries_startyear, salaries_endyear]"
   ]
  },
  {
   "cell_type": "code",
   "execution_count": null,
   "id": "5c11d29e",
   "metadata": {
    "deletable": false,
    "editable": false
   },
   "outputs": [],
   "source": [
    "grader.check(\"q3c\")"
   ]
  },
  {
   "cell_type": "markdown",
   "id": "d324df29",
   "metadata": {
    "deletable": false,
    "editable": false
   },
   "source": [
    "### Question 3d: \n",
    "\n",
    "If you haven't already, **read the assigned textbook readings** [on Filtering](https://learningds.org/ch/06/pandas_subsetting.html#filtering-rows) and  [on Extracting Data](https://learningds.org/ch/06/pandas_subsetting.html).\n",
    "\n",
    "\n",
    " i ). For the data science approach used by the Oakland A's team in 2002, they used historical baseball data starting in 1998. We're going to analyze some of this Oakland A's data, so we'll start by filtering out a smaller dataframe that just focuses on the years and columns of interest. \n",
    " \n",
    " Filter the `teams_df` to create a new dataframe `teams_df_moneyball` with **index** `teamID` and columns `yearID`, `name`, `G`, `W`.  The new dataframe should only include records where the year is greater than or equal to 1998. (Hint, the dataframe method set_index will be useful https://pandas.pydata.org/docs/reference/api/pandas.DataFrame.set_index.html)\n",
    " \n",
    "ii).  Add a new column called `winFrac` to the dataframe `teams_df_moneyball` that calculates the number of Wins divided by the number of Games for a given team in a given year, rounded to the nearest hundredth.  (Hint: Don't use any for loops) The python built-in `round`  function will be helpful (https://www.w3schools.com/python/ref_func_round.asp).\n",
    "\n",
    "\n",
    "iii).  Use an appropriate extraction operator to determine the Oakland A's (\"OAK\") fraction of wins in the year 1998 (i.e. write code below  that selects this value from the `teams_df_moneyball` table) and assign it to the variable `winFrac_OAK_98`.   \n",
    "  \n",
    " \n"
   ]
  },
  {
   "cell_type": "code",
   "execution_count": null,
   "id": "141faa0c",
   "metadata": {
    "tags": []
   },
   "outputs": [],
   "source": [
    "# Create teams_df_moneyball dataframe\n",
    "\n",
    "teams_df_moneyball = ...\n",
    "\n"
   ]
  },
  {
   "cell_type": "code",
   "execution_count": null,
   "id": "71601c69-830d-4227-bde0-271f678d1c26",
   "metadata": {
    "tags": []
   },
   "outputs": [],
   "source": [
    "# Add column called winFrac to the dataframe\n",
    "\n",
    "teams_df_moneyball[\"winFrac\"] = ...\n",
    "\n",
    "\n",
    "# Print out resulting DataFrame\n",
    "teams_df_moneyball.head()"
   ]
  },
  {
   "cell_type": "code",
   "execution_count": null,
   "id": "39267ce6-b1cd-4d58-aa25-8b5fa2b9a0df",
   "metadata": {
    "tags": []
   },
   "outputs": [],
   "source": [
    "# Answer to part 3diii:\n",
    "\n",
    "winFrac_OAK_98= ...\n",
    "\n",
    "winFrac_OAK_98"
   ]
  },
  {
   "cell_type": "code",
   "execution_count": null,
   "id": "02b27c0c",
   "metadata": {
    "deletable": false,
    "editable": false
   },
   "outputs": [],
   "source": [
    "grader.check(\"q3d\")"
   ]
  },
  {
   "cell_type": "markdown",
   "id": "795c4a52-f77d-4dec-8eb7-00b2ee2412d8",
   "metadata": {},
   "source": [
    "### EDA:  Visualizing Data \n",
    "\n",
    "Let's examine how winFrac has varied over time for the Oakland A's."
   ]
  },
  {
   "cell_type": "code",
   "execution_count": null,
   "id": "44bd0d5e-f849-42d7-ad9e-acd11836e65c",
   "metadata": {},
   "outputs": [],
   "source": [
    "#The code below uses the module plotlyexpress, which we imported at the top of the notebook using alias px\n",
    "#Read the code below to see how to use this function, then run this cell\n",
    "\n",
    "px.line(teams_df_moneyball.loc[\"OAK\"],x=\"yearID\", y=\"winFrac\", markers=True)"
   ]
  },
  {
   "cell_type": "markdown",
   "id": "312a6001-0b6a-4aeb-b5a0-2a8faa9f68f3",
   "metadata": {},
   "source": [
    "\n",
    "\n",
    "Let's compare Oakland's winFrac to 2 other teams:  Boston Red Sox and the New York Yankees.  We can visualize this using size-by-size line plots:"
   ]
  },
  {
   "cell_type": "code",
   "execution_count": null,
   "id": "1617bb38-af0f-4a7f-8376-53ced92cd036",
   "metadata": {},
   "outputs": [],
   "source": [
    "#Read the entries below to see how to create this plot:\n",
    "#Then run this cell\n",
    "\n",
    "px.line(teams_df_moneyball.loc[[\"OAK\",\"NYA\", \"BOS\"]],x=\"yearID\", y=\"winFrac\",facet_col = 'name', markers=True)"
   ]
  },
  {
   "cell_type": "markdown",
   "id": "c8e55bef-a49a-4ae3-8e82-8a030d44998d",
   "metadata": {},
   "source": [
    "\n",
    "\n",
    "### Payrolls Per Team\n",
    "\n",
    "\n",
    "However, the interesting part of this story takes into account the salary differences between these teams, particularly during the time period from 1999-2004 (Oakland first began implementing a data science approach to choose their players in 2002).   \n",
    "\n",
    "\n",
    "Let's calculate the yearly team payrolls for OAK, NYA and BOS from 1999 to 2004.   A team payroll is the sum of all the players' salaries who are on that team in a given year.  \n",
    "To do this, we will need to aggregate data in the `salary_df`.   If you haven't already, [read the section from the assigned readings on Grouping](https://learningds.org/ch/06/pandas_aggregating.html), including the section on aggregating by multiple columns. \n",
    "\n",
    "\n",
    "\n"
   ]
  },
  {
   "cell_type": "markdown",
   "id": "68796cd5-4228-4af1-87ea-b15ed647d641",
   "metadata": {
    "deletable": false,
    "editable": false
   },
   "source": [
    "### Question 3e: \n",
    "To simplify the size of the DataFrame we're working with, start by selecting from the `salary_df` the columns `teamID`, `yearID` and `salary` and the subset of rows the with players with `teamID` equal to either `OAK`, `NYA` or `BOS` for the years starting in 1999 and ending in 2004.    \n",
    "Save this data in a new DataFrame `salaries_subset`.   (Keep the same index from the `salary_df`).\n",
    "\n"
   ]
  },
  {
   "cell_type": "code",
   "execution_count": null,
   "id": "e046eea0-469e-49bf-b2bc-5efe372f5a98",
   "metadata": {
    "tags": []
   },
   "outputs": [],
   "source": [
    "# Create salaries_subset DataFrame:\n",
    "\n",
    "salaries_subset = ...\n"
   ]
  },
  {
   "cell_type": "code",
   "execution_count": null,
   "id": "6b7147e6",
   "metadata": {
    "deletable": false,
    "editable": false
   },
   "outputs": [],
   "source": [
    "grader.check(\"q3e\")"
   ]
  },
  {
   "cell_type": "markdown",
   "id": "9c1524a8-cdf8-4a46-9aab-d10800d5fb07",
   "metadata": {
    "deletable": false,
    "editable": false
   },
   "source": [
    "### Question 3f: \n",
    "\n",
    "\n",
    "Next, group the `salary_subset` DataFrame on the columns `teamID` and `yearID` (in that order) and sum the players' salaries.   Save this aggregated data to a new DataFrame called `payroll_df`.\n",
    "\n",
    "Then rename the aggregated column from salary to `payroll` (hint: use `.rename(columns = {\"oldname\":\"newname\"})`\n",
    "\n",
    "After grouping, notice there will be two levels to the index (`teamID`, `yearID`),  because we grouped by two columns. "
   ]
  },
  {
   "cell_type": "code",
   "execution_count": null,
   "id": "e2b845ef-19ac-4a9d-bd58-4d131e24d12e",
   "metadata": {
    "tags": []
   },
   "outputs": [],
   "source": [
    "# Group the salaries_subset DataFrame and save the results \n",
    "# to payroll_df:\n",
    "\n",
    "payroll_df = ...\n",
    "\n",
    "\n",
    "\n",
    "# Rename the aggregated column:\n",
    "\n",
    "payroll_df = ...\n",
    "\n",
    "payroll_df.head()"
   ]
  },
  {
   "cell_type": "code",
   "execution_count": null,
   "id": "978c8b73",
   "metadata": {
    "deletable": false,
    "editable": false
   },
   "outputs": [],
   "source": [
    "grader.check(\"q3f\")"
   ]
  },
  {
   "cell_type": "markdown",
   "id": "9c23c848-d9fb-4ce8-8e5a-ce5dd51aeccd",
   "metadata": {},
   "source": [
    "# Merging Data\n",
    "\n",
    "Let's merge the win data from `teams_df_moneyball` into the `payroll_df` dataframe so we can compare wins and payroll.\n",
    "\n",
    "We'll do this in several steps:\n",
    "\n",
    "The primary key in both DataFrames is `teamID` AND `yearID`.  The DataFrame `payroll_df` already has these both defined as indices (i.e. these are called a  a multi-index).  \n",
    "Let's also define these as a multi-index in the `teams_df_moneyball` DataFrame, to make the merging process easier.\n",
    "To start, we'll reset the index in the `teams_df_moneyball`:\"\n"
   ]
  },
  {
   "cell_type": "code",
   "execution_count": null,
   "id": "139013ee-67d2-460c-aed8-427f71ff88ee",
   "metadata": {},
   "outputs": [],
   "source": [
    "teams_df_moneyball = teams_df_moneyball.reset_index()\n",
    "teams_df_moneyball.head()"
   ]
  },
  {
   "cell_type": "markdown",
   "id": "61c02110-30b8-4b15-8e19-c6fe793fd05c",
   "metadata": {
    "deletable": false,
    "editable": false
   },
   "source": [
    "### Question 3g:\n",
    "Change the index of the `teams_df_moneyball` DataFrame to be a multi-index using the columns `teamID` and `yearID` (in that order):\n"
   ]
  },
  {
   "cell_type": "code",
   "execution_count": null,
   "id": "c1188e65-e1dd-4066-9e28-39a29aa8475c",
   "metadata": {
    "tags": []
   },
   "outputs": [],
   "source": [
    "teams_df_moneyball = ...\n",
    "teams_df_moneyball.head()"
   ]
  },
  {
   "cell_type": "code",
   "execution_count": null,
   "id": "9a315009",
   "metadata": {
    "deletable": false,
    "editable": false
   },
   "outputs": [],
   "source": [
    "grader.check(\"q3g\")"
   ]
  },
  {
   "cell_type": "markdown",
   "id": "9df7c812-8c46-4044-82bc-78c735a03b5f",
   "metadata": {
    "deletable": false,
    "editable": false
   },
   "source": [
    "### Question 3h:\n",
    "\n",
    "Merge the `payroll_df` and `teams_df_moneyball` DataFrames using an inner join (that is, only keeping rows that appear in both DataFrames). \n",
    "\n",
    "Tip: Since they both have the same multi-indices, you will join on their Indices (not on columns).   See the [documentation for merge](https://pandas.pydata.org/pandas-docs/stable/reference/api/pandas.DataFrame.merge.html) for the default inputs.  "
   ]
  },
  {
   "cell_type": "code",
   "execution_count": null,
   "id": "41213c53-d853-450c-a12e-173b28d03ceb",
   "metadata": {
    "tags": []
   },
   "outputs": [],
   "source": [
    "payroll_df_merged = ...\n",
    "\n",
    "payroll_df_merged.head()"
   ]
  },
  {
   "cell_type": "code",
   "execution_count": null,
   "id": "cb79c5c0",
   "metadata": {
    "deletable": false,
    "editable": false
   },
   "outputs": [],
   "source": [
    "grader.check(\"q3h\")"
   ]
  },
  {
   "cell_type": "markdown",
   "id": "d9584ce7-7460-4a7a-ad08-eac9c4fe3eac",
   "metadata": {},
   "source": [
    "Let's examine the fraction of wins and payroll for the Oakland A's in 2002 and compare it to the the New York Yankees that same year:"
   ]
  },
  {
   "cell_type": "markdown",
   "id": "241dd577-b889-4be2-87e3-f4b7e4c89800",
   "metadata": {},
   "source": [
    "To access values using a multiindex we need to use parantheses in the first entry, as shown here:"
   ]
  },
  {
   "cell_type": "code",
   "execution_count": null,
   "id": "d67cad65-e2b6-4e46-a8c1-38a4af332b7f",
   "metadata": {},
   "outputs": [],
   "source": [
    "# Read this code to make sure you understand how to access data with a multi-index, then run this cell:\n",
    "\n",
    "oak_payroll_02 = payroll_df_merged.loc[(\"OAK\",2002),\"payroll\"]\n",
    "oak_winfrac_02 = payroll_df_merged.loc[(\"OAK\",2002),\"winFrac\"]\n",
    "\n",
    "print(\"Oakland's payroll in 2002 was \", oak_payroll_02, \" and its WinFrac was\", oak_winfrac_02)"
   ]
  },
  {
   "cell_type": "markdown",
   "id": "0c0f8c21-918f-4f03-95f7-ef6ee0d7b182",
   "metadata": {
    "deletable": false,
    "editable": false
   },
   "source": [
    "### Question 3i:\n",
    "\n",
    "Calculate these same statistics for the New York Yankees (\"NYA\") in 2002:"
   ]
  },
  {
   "cell_type": "code",
   "execution_count": null,
   "id": "6becd34f-44fb-400b-9577-9815ca9babf8",
   "metadata": {
    "tags": []
   },
   "outputs": [],
   "source": [
    "nya_payroll_02 = ...\n",
    "nya_winfrac_02 = ...\n",
    "\n",
    "print(\"New York Yankee's payroll in 2002 was \", nya_payroll_02, \" and its WinFrac was\", nya_winfrac_02)"
   ]
  },
  {
   "cell_type": "code",
   "execution_count": null,
   "id": "0955a8a9",
   "metadata": {
    "deletable": false,
    "editable": false
   },
   "outputs": [],
   "source": [
    "grader.check(\"q3i\")"
   ]
  },
  {
   "cell_type": "markdown",
   "id": "870f6ccb-af7d-436b-ba02-2db7a4a08631",
   "metadata": {
    "deletable": false,
    "editable": false
   },
   "source": [
    "### Question 3j:\n",
    "\n",
    "**Payroll efficiency** in baseball is defined as the \"payroll dollars spent per win\".   \n",
    "Add a column to `payroll_df_merged` called `efficiency` that calculates the efficiency for each team each year.   \n",
    "Hint: Do this without using a \"for\" loop."
   ]
  },
  {
   "cell_type": "code",
   "execution_count": null,
   "id": "89ef9948-079a-4b9b-ad5c-c12b6f7c0833",
   "metadata": {
    "tags": []
   },
   "outputs": [],
   "source": [
    "payroll_df_merged = ...\n"
   ]
  },
  {
   "cell_type": "code",
   "execution_count": null,
   "id": "b18a2c2c",
   "metadata": {
    "deletable": false,
    "editable": false
   },
   "outputs": [],
   "source": [
    "grader.check(\"q3j\")"
   ]
  },
  {
   "cell_type": "markdown",
   "id": "e26c5930-4b50-49b7-8ccf-c9c4d3d1209d",
   "metadata": {},
   "source": [
    "### Visualizing Efficiency\n",
    "\n",
    "We can compare Payroll efficiency between these 3 teams using the side-by-side line plots below:"
   ]
  },
  {
   "cell_type": "code",
   "execution_count": null,
   "id": "4507dbbc-ac41-4187-b02e-c21c38b3e878",
   "metadata": {},
   "outputs": [],
   "source": [
    "# Just run this cell:\n",
    "\n",
    "# Reset index before plotting, as plot inputs easier to handle without single index\n",
    "payroll_df_merged = payroll_df_merged.reset_index()\n",
    "\n",
    "# Code to plot side-by-side line plots of efficiency:\n",
    "px.line(payroll_df_merged,x=\"yearID\", y=\"efficiency\",facet_col = 'name', markers=True, labels=dict(efficiency=\"efficiency ($/win)\", yearID=\"year\"))\n",
    "\n"
   ]
  },
  {
   "cell_type": "markdown",
   "id": "b1298523-2216-4d4d-81e1-01404795fb99",
   "metadata": {},
   "source": [
    "**From 1998 to 2008, the Oakland Athletics were the most payroll efficient team in Major League Baseball (MLB), recording the 5th highest win percentage despite having the 7th lowest payroll to work with. Their remarkable success has been widely attributed to the innovative data science strategies employed by general manager Billy Beane designed to identify undervalued statistics and players.**\n"
   ]
  },
  {
   "cell_type": "markdown",
   "id": "4f74f72e",
   "metadata": {},
   "source": [
    "<br/><br/>\n",
    "<hr style=\"border: 5px solid #003262;\" />\n",
    "<hr style=\"border: 1px solid #fdb515;\" />\n",
    "\n",
    "## Congratulations! You have finished Homework 2!"
   ]
  },
  {
   "cell_type": "markdown",
   "id": "4a3ea147",
   "metadata": {},
   "source": [
    "If you discussed this assignment with any other students in the class (in a manner that is acceptable as described by the Collaboration policy above) please **include their names** here:\n",
    "\n",
    "**Collaborators**: *list collaborators here*"
   ]
  },
  {
   "cell_type": "markdown",
   "id": "43b5c907-e11b-4d99-a368-2335a0042d7c",
   "metadata": {},
   "source": [
    "If while completing this assignment you reference any websites other than those linked in this assignment or provided on Canvas please list those references here:\n",
    "\n",
    "**External references**:  *list any websites you referenced*"
   ]
  },
  {
   "cell_type": "markdown",
   "id": "d65478fe",
   "metadata": {},
   "source": [
    "### Submission Instructions\n",
    "\n",
    "Before proceeding any further, **save this notebook.**\n",
    "\n",
    "After running the `grader.export()` cell provided below, **2 files will be created**: a zip file and pdf file.  You can download them using the links provided below OR by finding them in the same folder where this juptyer notebook resides in your JuptyerHub.\n",
    "\n",
    "To receive credit on this assignment, **you must submit BOTH of these files\n",
    "to their respective Gradescope portals:** \n",
    "\n",
    "\n",
    "* **Homework 2 Autograded**: Submit the zip file that is output by the `grader.export()` cell below to the HW2 Autograded assignment in Gradescope.\n",
    "\n",
    "* **Homework 2 Manually Graded**: Submit your hw02.PDF to the HW2 Manually Graded assignment in Gradescope.  **It is your responsibility to fully review your PDF file before submitting and make sure that all your lines of code are visible and any LaTeX has correctly compiled and is fully viewable.**  **YOU MUST SELECT THE PAGES CORRESPONDING TO EACH QUESTION WHEN YOU UPLOAD TO GRADESCOPE.** If not, you will lose points.    \n",
    "\n",
    "**TROUBLESHOOTING TIPS**  If you are having any issues compiling your assignment, please [read through these troubleshooting tips first](https://docs.google.com/document/d/1ndr3Wj1PSF5qzlLMaBJznwh6QGeEXjd5TAJ6nf9EJvo/edit?usp=sharing), then post any questions on Piazza.  \n",
    "\n",
    "**You are responsible for ensuring your submission follows our requirements. We will not be granting regrade requests nor extensions to submissions that don't follow instructions.** If you encounter any difficulties with submission, please don't hesitate to reach out to staff prior to the deadline."
   ]
  },
  {
   "cell_type": "markdown",
   "id": "77b02bbd",
   "metadata": {
    "deletable": false,
    "editable": false
   },
   "source": [
    "## Submission\n",
    "\n",
    "Make sure you have run all cells in your notebook in order before running the cell below, so that all images/graphs appear in the output. The cell below will generate a zip file for you to submit. **Please save before exporting!**\n",
    "\n",
    "AFTER running the cell below, click on <a href='hw02.pdf' download>this link to download the PDF </a> to upload to Gradescope.  There will be a separate link that appears after running the cell below with a link to download the zip file to upload to Gradescope."
   ]
  },
  {
   "cell_type": "code",
   "execution_count": null,
   "id": "11b4e058",
   "metadata": {
    "deletable": false,
    "editable": false
   },
   "outputs": [],
   "source": [
    "# Save your notebook first, then run this cell to export your submission.\n",
    "grader.export(run_tests=True)"
   ]
  },
  {
   "cell_type": "markdown",
   "id": "63e37094",
   "metadata": {},
   "source": [
    " "
   ]
  }
 ],
 "metadata": {
  "kernelspec": {
   "display_name": "Python 3 (ipykernel)",
   "language": "python",
   "name": "python3"
  },
  "language_info": {
   "codemirror_mode": {
    "name": "ipython",
    "version": 3
   },
   "file_extension": ".py",
   "mimetype": "text/x-python",
   "name": "python",
   "nbconvert_exporter": "python",
   "pygments_lexer": "ipython3",
   "version": "3.10.8"
  },
  "otter": {
   "OK_FORMAT": true,
   "tests": {
    "2a": {
     "name": "2a",
     "points": 2,
     "suites": [
      {
       "cases": [
        {
         "code": ">>> assert get_hash(round(p_HHHTHT, 6)) == '8621a84afb6956533591c0832ff1ba09'\n",
         "hidden": false,
         "locked": false
        }
       ],
       "scored": true,
       "setup": "",
       "teardown": "",
       "type": "doctest"
      }
     ]
    },
    "2c": {
     "name": "2c",
     "points": 2,
     "suites": [
      {
       "cases": [
        {
         "code": ">>> assert get_hash(p_hat) == '54fbf38cf649866815e0fefc46a1f6c7'\n",
         "hidden": false,
         "locked": false
        }
       ],
       "scored": true,
       "setup": "",
       "teardown": "",
       "type": "doctest"
      }
     ]
    },
    "q3a": {
     "name": "q3a",
     "points": 2,
     "suites": [
      {
       "cases": [
        {
         "code": ">>> assert get_hash(salaries_df.iloc[0, 4]) == '0084883cb7b090fa951c16338faa4b06'\n",
         "hidden": false,
         "locked": false
        },
        {
         "code": ">>> assert get_hash(salaries_df.size) == '4b094151d0f7e3e2941d4dde33c48e64'\n",
         "hidden": false,
         "locked": false
        }
       ],
       "scored": true,
       "setup": "",
       "teardown": "",
       "type": "doctest"
      }
     ]
    },
    "q3b": {
     "name": "q3b",
     "points": 5,
     "suites": [
      {
       "cases": [
        {
         "code": ">>> assert get_hash(team_rows) == '51be2fed6c55f5aa0c16ff14c140b187'\n",
         "hidden": false,
         "locked": false
        },
        {
         "code": ">>> assert get_hash(team_col) == '642e92efb79421734881b53e1e1b18b6'\n",
         "hidden": false,
         "locked": false
        },
        {
         "code": ">>> assert get_hash(salary_rows) == '398a516d8fbfdd9158eec76b283dd9ce'\n",
         "hidden": false,
         "locked": false
        },
        {
         "code": ">>> assert get_hash(salary_col) == 'e4da3b7fbbce2345d7772b0674a318d5'\n",
         "hidden": false,
         "locked": false
        },
        {
         "code": ">>> assert get_hash(missing_attendance) == 'd395771085aab05244a4fb8fd91bf4ee'\n",
         "hidden": false,
         "locked": false
        }
       ],
       "scored": true,
       "setup": "",
       "teardown": "",
       "type": "doctest"
      }
     ]
    },
    "q3c": {
     "name": "q3c",
     "points": 4,
     "suites": [
      {
       "cases": [
        {
         "code": ">>> assert get_hash(unique_teams) == 'f2217062e9a397a1dca429e7d70bc6ca'\n",
         "hidden": false,
         "locked": false
        },
        {
         "code": ">>> assert get_hash(unique_teams_salary) == '1c383cd30b7c298ab50293adfecb7b18'\n",
         "hidden": false,
         "locked": false
        },
        {
         "code": ">>> assert get_hash(teams_startyear) == 'fb8feff253bb6c834deb61ec76baa893'\n",
         "hidden": false,
         "locked": false
        },
        {
         "code": ">>> assert get_hash(teams_endyear) == '3a824154b16ed7dab899bf000b80eeee'\n",
         "hidden": false,
         "locked": false
        },
        {
         "code": ">>> assert get_hash(salaries_startyear) == '1f36c15d6a3d18d52e8d493bc8187cb9'\n",
         "hidden": false,
         "locked": false
        },
        {
         "code": ">>> assert get_hash(salaries_endyear) == '95192c98732387165bf8e396c0f2dad2'\n",
         "hidden": false,
         "locked": false
        }
       ],
       "scored": true,
       "setup": "",
       "teardown": "",
       "type": "doctest"
      }
     ]
    },
    "q3d": {
     "name": "q3d",
     "points": 4,
     "suites": [
      {
       "cases": [
        {
         "code": ">>> assert get_hash(winFrac_OAK_98) == '3b97a72e9bc7f5c5e225aec9b0bf548c'\n",
         "hidden": false,
         "locked": false
        },
        {
         "code": ">>> assert get_hash(teams_df_moneyball.shape[1]) == 'e4da3b7fbbce2345d7772b0674a318d5'\n",
         "hidden": false,
         "locked": false
        },
        {
         "code": ">>> assert get_hash(teams_df_moneyball.shape[0]) == 'b137fdd1f79d56c7edf3365fea7520f2'\n",
         "hidden": false,
         "locked": false
        },
        {
         "code": ">>> assert get_hash(teams_df_moneyball[teams_df_moneyball['yearID'] == 2001].loc['FLO', 'W']) == 'fbd7939d674997cdb4692d34de8633c4'\n",
         "hidden": false,
         "locked": false
        },
        {
         "code": ">>> assert get_hash(teams_df_moneyball.query('yearID==2010').loc['BOS', 'winFrac']) == '10efc2614821dcf1b1ebc941ebd6ce1f'\n",
         "hidden": false,
         "locked": false
        }
       ],
       "scored": true,
       "setup": "",
       "teardown": "",
       "type": "doctest"
      }
     ]
    },
    "q3e": {
     "name": "q3e",
     "points": 4,
     "suites": [
      {
       "cases": [
        {
         "code": ">>> assert get_hash(salaries_subset.shape[1]) == 'eccbc87e4b5ce2fe28308fd9f2a7baf3'\n",
         "hidden": false,
         "locked": false
        },
        {
         "code": ">>> assert get_hash(salaries_subset.shape[0]) == '63538fe6ef330c13a05a3ed7e599d5f7'\n",
         "hidden": false,
         "locked": false
        },
        {
         "code": ">>> assert get_hash(salaries_subset.loc[11425, 'salary']) == 'c9077732a294f90a75acea3ce5f2a4e8'\n",
         "hidden": false,
         "locked": false
        }
       ],
       "scored": true,
       "setup": "",
       "teardown": "",
       "type": "doctest"
      }
     ]
    },
    "q3f": {
     "name": "q3f",
     "points": 4,
     "suites": [
      {
       "cases": [
        {
         "code": ">>> assert get_hash(payroll_df.loc[('OAK', 2002), 'payroll']) == 'a42b2a27b320d77143ad7a206817b4c2'\n",
         "hidden": false,
         "locked": false
        },
        {
         "code": ">>> assert get_hash(payroll_df.shape[0]) == '6f4922f45568161a8cdf4ad2299f6d23'\n",
         "hidden": false,
         "locked": false
        },
        {
         "code": ">>> assert get_hash(payroll_df.shape[1]) == 'c4ca4238a0b923820dcc509a6f75849b'\n",
         "hidden": false,
         "locked": false
        },
        {
         "code": ">>> assert get_hash(payroll_df.loc[('BOS', 2004), 'payroll']) == 'd02548c81c261214893c92e0c26aa601'\n",
         "hidden": false,
         "locked": false
        }
       ],
       "scored": true,
       "setup": "",
       "teardown": "",
       "type": "doctest"
      }
     ]
    },
    "q3g": {
     "name": "q3g",
     "points": 4,
     "suites": [
      {
       "cases": [
        {
         "code": ">>> assert get_hash(teams_df_moneyball.loc[('ANA', 1999), 'W']) == '7cbbc409ec990f19c78c75bd1e06f215'\n",
         "hidden": false,
         "locked": false
        },
        {
         "code": ">>> assert get_hash(teams_df_moneyball.loc[('OAK', 2001), 'winFrac']) == 'b9c48c2d04160ef1ff72dba569292058'\n",
         "hidden": false,
         "locked": false
        }
       ],
       "scored": true,
       "setup": "",
       "teardown": "",
       "type": "doctest"
      }
     ]
    },
    "q3h": {
     "name": "q3h",
     "points": 4,
     "suites": [
      {
       "cases": [
        {
         "code": ">>> assert get_hash(payroll_df_merged.shape[0]) == '6f4922f45568161a8cdf4ad2299f6d23'\n",
         "hidden": false,
         "locked": false
        },
        {
         "code": ">>> assert get_hash(payroll_df_merged.shape[1]) == 'e4da3b7fbbce2345d7772b0674a318d5'\n",
         "hidden": false,
         "locked": false
        },
        {
         "code": ">>> assert get_hash(payroll_df_merged.loc[('BOS', 2003), 'payroll']) == 'f2e873cf5a228e1d9530f60820b7b6fc'\n",
         "hidden": false,
         "locked": false
        },
        {
         "code": ">>> assert get_hash(payroll_df_merged.loc[('OAK', 1999), 'winFrac']) == '676813538852c7111802c95f5ca99e41'\n",
         "hidden": false,
         "locked": false
        }
       ],
       "scored": true,
       "setup": "",
       "teardown": "",
       "type": "doctest"
      }
     ]
    },
    "q3i": {
     "name": "q3i",
     "points": 4,
     "suites": [
      {
       "cases": [
        {
         "code": ">>> assert get_hash(nya_payroll_02) == 'c181907c1a7dc2fd99e65ea1f42e2978'\n",
         "hidden": false,
         "locked": false
        },
        {
         "code": ">>> assert get_hash(nya_winfrac_02) == '100dd920921e3c509b9afd9dff04f149'\n",
         "hidden": false,
         "locked": false
        }
       ],
       "scored": true,
       "setup": "",
       "teardown": "",
       "type": "doctest"
      }
     ]
    },
    "q3j": {
     "name": "q3j",
     "points": 5,
     "suites": [
      {
       "cases": [
        {
         "code": ">>> assert get_hash(round(payroll_df_merged.loc[('OAK', 2003), 'efficiency'], 2)) == '4c54b0a8f1705002aef1b34d14cff762'\n",
         "hidden": false,
         "locked": false
        },
        {
         "code": ">>> assert get_hash(round(payroll_df_merged.loc[('NYA', 1999), 'efficiency'], 2)) == '670eb53716271fd8f56193dd794b001f'\n",
         "hidden": false,
         "locked": false
        }
       ],
       "scored": true,
       "setup": "",
       "teardown": "",
       "type": "doctest"
      }
     ]
    }
   }
  }
 },
 "nbformat": 4,
 "nbformat_minor": 5
}
